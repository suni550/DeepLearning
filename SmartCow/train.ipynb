{
 "cells": [
  {
   "cell_type": "code",
   "execution_count": 1,
   "id": "9e0c4b66",
   "metadata": {},
   "outputs": [],
   "source": [
    "# Import pandas, numpy , matplot etc. libraries\n",
    "import os\n",
    "import cv2\n",
    "import numpy as np\n",
    "import matplotlib.pyplot as plt  \n",
    "import pandas as pd\n",
    "import math\n",
    "\n",
    "# Import scikit learn packages\n",
    "from sklearn.model_selection import train_test_split\n",
    "from sklearn.metrics import mean_squared_error, accuracy_score\n",
    "\n",
    "# Import Tensorflow packages\n",
    "from tensorflow.keras.applications import MobileNet\n",
    "import  tensorflow.keras.layers as L\n",
    "import tensorflow as tf"
   ]
  },
  {
   "cell_type": "markdown",
   "id": "2de394b3",
   "metadata": {},
   "source": [
    "## Prepare the training data"
   ]
  },
  {
   "cell_type": "code",
   "execution_count": 2,
   "id": "61594726",
   "metadata": {},
   "outputs": [],
   "source": [
    "def  GenerateDataSet(frame, cnt, cow_count): \n",
    "    \n",
    "    filename = str(cnt) +'.jpg'\n",
    "    filenames.append(filename)\n",
    "    count.append(cow_count)    \n",
    "\n",
    "    file_name_path = r'Samples/' + str(cnt)+'.jpg'\n",
    "    cv2.imwrite(file_name_path, frame) \n",
    "  \n",
    "    cnt += 1\n",
    "\n",
    "    if cnt == TOTAL_IMAGES:\n",
    "        # Create a data frame: Cow counts corresponding to file name\n",
    "        df = pd.DataFrame({'Filenames': filenames, 'Count':count})\n",
    "        df.to_csv(\"Final.csv\", index = False)\n",
    "    return cnt"
   ]
  },
  {
   "cell_type": "markdown",
   "id": "8be82c8a",
   "metadata": {},
   "source": [
    "## Get the input data X "
   ]
  },
  {
   "cell_type": "code",
   "execution_count": 3,
   "id": "fa6f5242",
   "metadata": {},
   "outputs": [],
   "source": [
    "img_width, img_height = 224,224\n",
    "def format_image(path):\n",
    "  img = cv2.imread(PATH + '/' + path)\n",
    "  img = cv2.resize(img,(img_width,img_height))\n",
    "  return img"
   ]
  },
  {
   "cell_type": "code",
   "execution_count": 4,
   "id": "93bd9699",
   "metadata": {},
   "outputs": [],
   "source": [
    "PATH = 'Samples/'\n",
    "paths = os.listdir(PATH)\n",
    "#print(paths)\n",
    "data = np.array([format_image(path) for path in paths])"
   ]
  },
  {
   "cell_type": "markdown",
   "id": "3d69b817",
   "metadata": {},
   "source": [
    "## Get the labels"
   ]
  },
  {
   "cell_type": "code",
   "execution_count": 5,
   "id": "54554d1d",
   "metadata": {},
   "outputs": [],
   "source": [
    "df = pd.read_csv('Final.csv')\n",
    "\n",
    "label = df.Count\n",
    "#label"
   ]
  },
  {
   "cell_type": "markdown",
   "id": "e20ef838",
   "metadata": {},
   "source": [
    "## Split the training and testing data"
   ]
  },
  {
   "cell_type": "code",
   "execution_count": 6,
   "id": "193f95a5",
   "metadata": {},
   "outputs": [],
   "source": [
    "x_train, x_test, y_train, y_test = train_test_split(data, label, test_size = 0.2, random_state = 10)\n"
   ]
  },
  {
   "cell_type": "markdown",
   "id": "fc4085f5",
   "metadata": {},
   "source": [
    "## Design the model"
   ]
  },
  {
   "cell_type": "code",
   "execution_count": 7,
   "id": "7f4d0803",
   "metadata": {},
   "outputs": [
    {
     "name": "stdout",
     "output_type": "stream",
     "text": [
      "Model: \"sequential\"\n",
      "_________________________________________________________________\n",
      "Layer (type)                 Output Shape              Param #   \n",
      "=================================================================\n",
      "mobilenet_1.00_224 (Function (None, 1024)              3228864   \n",
      "_________________________________________________________________\n",
      "dense (Dense)                (None, 1)                 1025      \n",
      "=================================================================\n",
      "Total params: 3,229,889\n",
      "Trainable params: 3,208,001\n",
      "Non-trainable params: 21,888\n",
      "_________________________________________________________________\n"
     ]
    }
   ],
   "source": [
    "model = tf.keras.Sequential([\n",
    "              MobileNet(input_shape=( img_width, img_height,3),\n",
    "                        include_top=False,\n",
    "                        pooling='avg',\n",
    "                        weights='mobilenet_1_0_224_tf_no_top.h5'),\n",
    "                         L.Dense(1, activation = 'relu')\n",
    "                        ])\n",
    "\n",
    "model.summary()"
   ]
  },
  {
   "cell_type": "code",
   "execution_count": 8,
   "id": "d156dcc1",
   "metadata": {},
   "outputs": [],
   "source": [
    "model.compile(optimizer='adam',loss='mae',metrics='mae')"
   ]
  },
  {
   "cell_type": "code",
   "execution_count": 9,
   "id": "fa3ec804",
   "metadata": {},
   "outputs": [],
   "source": [
    "from keras.callbacks import EarlyStopping, ReduceLROnPlateau\n",
    "\n",
    "earlystop = EarlyStopping(patience=5) #wait for 2 epochs, validation accuracy is not improving\n",
    "# ReduceLROnPlateau: Reduce learning rate when a metric has stopped improving 0.01 - 0.5*0.01 == 0.01/2\n",
    "learning_rate_reduction = ReduceLROnPlateau(monitor='val_loss', \n",
    "                                            patience=5, \n",
    "                                            verbose=1, \n",
    "                                            factor=0.5, \n",
    "                                            min_lr=0.00001)\n",
    "\n",
    "\n",
    "callbacks = [earlystop, learning_rate_reduction]"
   ]
  },
  {
   "cell_type": "markdown",
   "id": "fb7b8826",
   "metadata": {},
   "source": [
    "## train the model"
   ]
  },
  {
   "cell_type": "code",
   "execution_count": 10,
   "id": "94e21c0e",
   "metadata": {},
   "outputs": [
    {
     "name": "stdout",
     "output_type": "stream",
     "text": [
      "Epoch 1/40\n",
      "7/7 [==============================] - 44s 6s/step - loss: 3.2315 - mae: 3.2315 - val_loss: 2.8524 - val_mae: 2.8524\n",
      "Epoch 2/40\n",
      "7/7 [==============================] - 46s 6s/step - loss: 1.6292 - mae: 1.6292 - val_loss: 1.0493 - val_mae: 1.0493\n",
      "Epoch 3/40\n",
      "7/7 [==============================] - 42s 6s/step - loss: 1.3258 - mae: 1.3258 - val_loss: 1.3690 - val_mae: 1.3690\n",
      "Epoch 4/40\n",
      "7/7 [==============================] - 42s 6s/step - loss: 1.1174 - mae: 1.1174 - val_loss: 2.6658 - val_mae: 2.6658\n",
      "Epoch 5/40\n",
      "7/7 [==============================] - 42s 6s/step - loss: 1.3128 - mae: 1.3128 - val_loss: 1.4796 - val_mae: 1.4796\n",
      "Epoch 6/40\n",
      "7/7 [==============================] - 43s 6s/step - loss: 0.7181 - mae: 0.7181 - val_loss: 0.9035 - val_mae: 0.9035\n",
      "Epoch 7/40\n",
      "7/7 [==============================] - 42s 6s/step - loss: 0.6400 - mae: 0.6400 - val_loss: 1.1933 - val_mae: 1.1933\n",
      "Epoch 8/40\n",
      "7/7 [==============================] - 42s 6s/step - loss: 0.4573 - mae: 0.4573 - val_loss: 1.1242 - val_mae: 1.1242\n",
      "Epoch 9/40\n",
      "7/7 [==============================] - 42s 6s/step - loss: 0.4961 - mae: 0.4961 - val_loss: 0.4392 - val_mae: 0.4392\n",
      "Epoch 10/40\n",
      "7/7 [==============================] - 42s 6s/step - loss: 0.6285 - mae: 0.6285 - val_loss: 0.7650 - val_mae: 0.7650\n",
      "Epoch 11/40\n",
      "7/7 [==============================] - 43s 6s/step - loss: 0.5309 - mae: 0.5309 - val_loss: 0.3976 - val_mae: 0.3976\n",
      "Epoch 12/40\n",
      "7/7 [==============================] - 42s 6s/step - loss: 0.4079 - mae: 0.4079 - val_loss: 0.7584 - val_mae: 0.7584\n",
      "Epoch 13/40\n",
      "7/7 [==============================] - 42s 6s/step - loss: 0.2768 - mae: 0.2768 - val_loss: 0.6216 - val_mae: 0.6216\n",
      "Epoch 14/40\n",
      "7/7 [==============================] - 42s 6s/step - loss: 0.2976 - mae: 0.2976 - val_loss: 0.3482 - val_mae: 0.3482\n",
      "Epoch 15/40\n",
      "7/7 [==============================] - 42s 6s/step - loss: 0.4350 - mae: 0.4350 - val_loss: 0.4730 - val_mae: 0.4730\n",
      "Epoch 16/40\n",
      "7/7 [==============================] - 42s 6s/step - loss: 0.4198 - mae: 0.4198 - val_loss: 0.6830 - val_mae: 0.6830\n",
      "Epoch 17/40\n",
      "7/7 [==============================] - 42s 6s/step - loss: 0.3283 - mae: 0.3283 - val_loss: 0.8253 - val_mae: 0.8253\n",
      "Epoch 18/40\n",
      "7/7 [==============================] - 43s 6s/step - loss: 0.3912 - mae: 0.3912 - val_loss: 0.6455 - val_mae: 0.6455\n",
      "Epoch 19/40\n",
      "7/7 [==============================] - 49s 7s/step - loss: 0.4755 - mae: 0.4755 - val_loss: 0.3294 - val_mae: 0.3294\n",
      "Epoch 20/40\n",
      "7/7 [==============================] - 44s 6s/step - loss: 0.3780 - mae: 0.3780 - val_loss: 0.6559 - val_mae: 0.6559\n",
      "Epoch 21/40\n",
      "7/7 [==============================] - 44s 6s/step - loss: 0.3769 - mae: 0.3769 - val_loss: 0.3022 - val_mae: 0.3022\n",
      "Epoch 22/40\n",
      "7/7 [==============================] - 43s 6s/step - loss: 0.2428 - mae: 0.2428 - val_loss: 0.3814 - val_mae: 0.3814\n",
      "Epoch 23/40\n",
      "7/7 [==============================] - 44s 6s/step - loss: 0.2697 - mae: 0.2697 - val_loss: 0.3621 - val_mae: 0.3621\n",
      "Epoch 24/40\n",
      "7/7 [==============================] - 42s 6s/step - loss: 0.2399 - mae: 0.2399 - val_loss: 0.6586 - val_mae: 0.6586\n",
      "Epoch 25/40\n",
      "7/7 [==============================] - 43s 6s/step - loss: 0.2253 - mae: 0.2253 - val_loss: 0.7295 - val_mae: 0.7295\n",
      "Epoch 26/40\n",
      "7/7 [==============================] - 43s 6s/step - loss: 0.1831 - mae: 0.1831 - val_loss: 0.4723 - val_mae: 0.4723\n",
      "\n",
      "Epoch 00026: ReduceLROnPlateau reducing learning rate to 0.0005000000237487257.\n"
     ]
    }
   ],
   "source": [
    "training = model.fit(\n",
    "        x_train,\n",
    "        y_train,\n",
    "        batch_size=64,\n",
    "        epochs=40,\n",
    "        validation_data=(x_test,y_test),\n",
    "        0callbacks = callbacks\n",
    "         )"
   ]
  },
  {
   "cell_type": "markdown",
   "id": "4dfd3b1a",
   "metadata": {},
   "source": [
    "## Evaluate the model\n",
    "### As seen from the 100 epochs graph, after 40 epochs the loss is almost stable. To avoid overfitting, train the model with 40 epochs. "
   ]
  },
  {
   "cell_type": "code",
   "execution_count": 11,
   "id": "e1db2aa1",
   "metadata": {},
   "outputs": [],
   "source": [
    "y_pred = model.predict(x_test)"
   ]
  },
  {
   "cell_type": "code",
   "execution_count": 12,
   "id": "7bf9c0e1",
   "metadata": {},
   "outputs": [
    {
     "name": "stdout",
     "output_type": "stream",
     "text": [
      "dict_keys(['loss', 'mae', 'val_loss', 'val_mae', 'lr'])\n"
     ]
    },
    {
     "data": {
      "image/png": "[encoded data removed]",
      "text/plain": [
       "<Figure size 432x288 with 1 Axes>"
      ]
     },
     "metadata": {
      "needs_background": "light"
     },
     "output_type": "display_data"
    }
   ],
   "source": [
    "# list all data in training\n",
    "print(training.history.keys())\n",
    "\n",
    "# summarize traning for loss\n",
    "plt.plot(training.history['loss'])\n",
    "plt.plot(training.history['val_loss'])\n",
    "plt.title('model loss')\n",
    "plt.ylabel('loss')\n",
    "plt.xlabel('epoch')\n",
    "plt.legend(['train', 'test'], loc='upper left')\n",
    "plt.show()"
   ]
  },
  {
   "cell_type": "markdown",
   "id": "3f9c37bf",
   "metadata": {},
   "source": [
    "## Prediction"
   ]
  },
  {
   "cell_type": "code",
   "execution_count": 13,
   "id": "9a2736af",
   "metadata": {},
   "outputs": [],
   "source": [
    "def Prediction(frame):\n",
    "    cnt = 1\n",
    "    img_width, img_height = 224, 224\n",
    "    file_name_path = r'test/'+str(cnt) + '.jpg'\n",
    "    cv2.imwrite(file_name_path, frame) \n",
    "\n",
    "    test_pic = cv2.imread(file_name_path)\n",
    "    test_pic = cv2.resize(test_pic,(img_width, img_height))\n",
    "    test_pic = test_pic.reshape(1,img_width, img_height,3)\n",
    "    pred = model.predict(test_pic)\n",
    "  \n",
    "    return (math.floor(pred))"
   ]
  },
  {
   "cell_type": "code",
   "execution_count": 14,
   "id": "9b9ddb70",
   "metadata": {},
   "outputs": [],
   "source": [
    "# Save the entire model to a HDF5 file.\n",
    "# The '.h5' extension indicates that the model should be saved to HDF5.\n",
    "model.save('saved_model.h5')"
   ]
  },
  {
   "cell_type": "code",
   "execution_count": null,
   "id": "276ab815",
   "metadata": {},
   "outputs": [],
   "source": []
  }
 ],
 "metadata": {
  "kernelspec": {
   "display_name": "Python 3 (ipykernel)",
   "language": "python",
   "name": "python3"
  },
  "language_info": {
   "codemirror_mode": {
    "name": "ipython",
    "version": 3
   },
   "file_extension": ".py",
   "mimetype": "text/x-python",
   "name": "python",
   "nbconvert_exporter": "python",
   "pygments_lexer": "ipython3",
   "version": "3.9.12"
  }
 },
 "nbformat": 4,
 "nbformat_minor": 5
}
