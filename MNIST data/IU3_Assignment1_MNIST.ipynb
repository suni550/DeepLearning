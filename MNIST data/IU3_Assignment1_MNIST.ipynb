{
 "cells": [
  {
   "cell_type": "code",
   "execution_count": 1,
   "metadata": {
    "id": "PSNcpPxVU4uc"
   },
   "outputs": [],
   "source": [
    "import tensorflow.keras as tf\n",
    "from tensorflow.keras import datasets\n",
    "from tensorflow.keras.datasets import mnist\n",
    "from sklearn.model_selection import train_test_split\n",
    "import matplotlib.pyplot as plt\n",
    "import numpy as np\n",
    "\n",
    "from tensorflow.keras.models import Sequential\n",
    "from tensorflow.keras.layers import Dense, Flatten\n",
    "from tensorflow.keras.utils import to_categorical\n",
    "from tensorflow.keras.metrics import Accuracy\n",
    "\n",
    "from sklearn.metrics import confusion_matrix\n",
    "import seaborn as sns"
   ]
  },
  {
   "cell_type": "code",
   "execution_count": 2,
   "metadata": {
    "colab": {
     "base_uri": "https://localhost:8080/"
    },
    "id": "2D3vBI0-VCZM",
    "outputId": "cb82e9fc-7844-4bd6-f0b5-1dfaba810573"
   },
   "outputs": [
    {
     "name": "stdout",
     "output_type": "stream",
     "text": [
      "Help on package keras.api._v2.keras.datasets in keras.api._v2.keras:\n",
      "\n",
      "NAME\n",
      "    keras.api._v2.keras.datasets - Small NumPy datasets for debugging/testing.\n",
      "\n",
      "PACKAGE CONTENTS\n",
      "    boston_housing (package)\n",
      "    cifar10 (package)\n",
      "    cifar100 (package)\n",
      "    fashion_mnist (package)\n",
      "    imdb (package)\n",
      "    mnist (package)\n",
      "    reuters (package)\n",
      "\n",
      "FILE\n",
      "    c:\\users\\suni5\\appdata\\roaming\\python\\python39\\site-packages\\keras\\api\\_v2\\keras\\datasets\\__init__.py\n",
      "\n",
      "\n"
     ]
    }
   ],
   "source": [
    "help(datasets)"
   ]
  },
  {
   "cell_type": "code",
   "execution_count": 3,
   "metadata": {
    "id": "GmWxagozVdK3"
   },
   "outputs": [],
   "source": [
    "mnist = datasets.mnist\n",
    "(X_train, Y_train), (X_test, Y_test) = mnist.load_data()"
   ]
  },
  {
   "cell_type": "code",
   "execution_count": null,
   "metadata": {
    "colab": {
     "base_uri": "https://localhost:8080/"
    },
    "id": "cWsacUvNbEMm",
    "outputId": "bb2ec212-40c0-4a6f-f869-1cb4fad945b7"
   },
   "outputs": [
    {
     "name": "stdout",
     "output_type": "stream",
     "text": [
      "(60000, 28, 28)\n",
      "(60000,)\n",
      "(10000, 28, 28)\n",
      "(10000,)\n"
     ]
    },
    {
     "data": {
      "text/plain": [
       "3"
      ]
     },
     "execution_count": 4,
     "metadata": {},
     "output_type": "execute_result"
    }
   ],
   "source": [
    "print(X_train.shape)\n",
    "print(Y_train.shape)\n",
    "print(X_test.shape)\n",
    "print(Y_test.shape)\n",
    "X_train.ndim"
   ]
  },
  {
   "cell_type": "markdown",
   "metadata": {
    "id": "4zDqCAHE6NnQ"
   },
   "source": [
    "# use matplotlib to show the digit(2) "
   ]
  },
  {
   "cell_type": "code",
   "execution_count": null,
   "metadata": {
    "colab": {
     "base_uri": "https://localhost:8080/",
     "height": 265
    },
    "id": "PMhANIEYezW4",
    "outputId": "837253b3-28ce-4374-e1d7-7d72ab41d4ff"
   },
   "outputs": [
    {
     "data": {
      "image/png": "[encoded data removed]",
      "text/plain": [
       "<Figure size 432x288 with 1 Axes>"
      ]
     },
     "metadata": {
      "needs_background": "light"
     },
     "output_type": "display_data"
    }
   ],
   "source": [
    "# This loop will show the number 2\n",
    "'''\n",
    "for i in range(10):\n",
    "  if(Y_train[i] == 2):\n",
    "    print(\"Number is and Index is \", Y_train[i],i)\n",
    "    plt.imshow(X_train[i])\n",
    "    plt.show()\n",
    "    break\n",
    "'''\n",
    "plt.imshow(X_train[2])\n",
    "plt.show()"
   ]
  },
  {
   "cell_type": "markdown",
   "metadata": {
    "id": "c7jgNM1skkpD"
   },
   "source": [
    "## Data Pre-processing\n",
    "  - Reshape/Flatten the input image to 28 * 28\n",
    "  - Convert the label to categorical (0 to 9) 10"
   ]
  },
  {
   "cell_type": "code",
   "execution_count": null,
   "metadata": {
    "colab": {
     "base_uri": "https://localhost:8080/"
    },
    "id": "E6oQwuAmdSiZ",
    "outputId": "5eb5a4cf-aafd-4ed9-cde1-2b015960b8ba"
   },
   "outputs": [
    {
     "name": "stdout",
     "output_type": "stream",
     "text": [
      "after flattening the shapes are:\n",
      "(60000, 784)\n",
      "(60000, 10)\n",
      "(10000, 784)\n",
      "(10000,)\n"
     ]
    }
   ],
   "source": [
    "# Flatten the input images to 784 \n",
    "input_shape = 28 * 28 \n",
    "X_train_org = X_train\n",
    "X_test_org = X_test\n",
    "X_train = X_train.reshape(60000, input_shape)\n",
    "X_test = X_test.reshape(10000, input_shape)\n",
    "\n",
    "X_train = X_train/255\n",
    "X_test = X_test/255\n",
    "\n",
    "# As there are 10 digits (0 - 9), create 10 class labels in output data \n",
    "Y_train = to_categorical(Y_train)\n",
    "Y_test_org = Y_test \n",
    "Y_test = to_categorical(Y_test)\n",
    "\n",
    "print(\"after flattening the shapes are:\")\n",
    "print(X_train.shape)\n",
    "print(Y_train.shape)\n",
    "print(X_test.shape)\n",
    "print(Y_test_org.shape)"
   ]
  },
  {
   "cell_type": "markdown",
   "metadata": {
    "id": "8dxfAuyq2_0J"
   },
   "source": [
    "# Define: Build the model\n"
   ]
  },
  {
   "cell_type": "code",
   "execution_count": null,
   "metadata": {
    "id": "T0DB8a-ucf32"
   },
   "outputs": [],
   "source": [
    "def build_model(optimizer, loss):\n",
    "  # create sequential Keras models and layers \n",
    "  # create 3 hidden layers with 32,64,128 neurons respectively \n",
    " \n",
    "  model = Sequential()\n",
    "  model.add(Dense(32, input_shape = (784,), activation = 'relu' )) # Param = (784 * 32) + 32 = 25, 120\n",
    "  model.add(Dense(64, activation = 'relu' ))    # Param = (32 * 64) + 64 = 2112\n",
    "  model.add(Dense(128, activation = 'relu' ))                      # Param = (64 * 128) + 128 = 8320\n",
    "  model.add(Dense(10, activation = 'softmax' ))                    # Param = (10*128) + 10 = 1290 \n",
    "\n",
    "  # use model.compile for loss  = categorical_crossentropy, optimizer='Adam', metrics=['accuracy'#\n",
    "  model.compile(loss = loss, optimizer = optimizer, metrics = ['accuracy'])\n",
    "\n",
    "  # model summary\n",
    "  model.summary()  \n",
    "\n",
    "  return model \n",
    "\n",
    "    \n",
    "  '''\n",
    "  # or like below \n",
    "  model = Sequential()\n",
    "  model.add(Flatten())\n",
    "  model.add(Dense(32, activation = 'relu' ))  \n",
    "  model.add(Dense(64, activation = 'relu' ))    # Param = (32 * 64) + 64 = 2112\n",
    "  model.add(Dense(128, activation = 'relu' ))                      # Param = (64 * 128) + 128 = 8320\n",
    "  model.add(Dense(10, activation = 'softmax' ))   \n",
    "\n",
    "  '''  \n"
   ]
  },
  {
   "cell_type": "markdown",
   "metadata": {
    "id": "bVX66sG4jQv-"
   },
   "source": [
    "# # Define: Train the model "
   ]
  },
  {
   "cell_type": "code",
   "execution_count": null,
   "metadata": {
    "id": "6dEg-ZlvCtoG"
   },
   "outputs": [],
   "source": [
    "def train_model(model, n_epochs):\n",
    "    history = model.fit(X_train, Y_train, batch_size = 10, epochs = n_epochs, validation_data = (X_test, Y_test))\n",
    "\n",
    "    return history"
   ]
  },
  {
   "cell_type": "markdown",
   "metadata": {
    "id": "f9b8Vhy64jE5"
   },
   "source": [
    "# # Define: evaluate the loss and accuracy "
   ]
  },
  {
   "cell_type": "code",
   "execution_count": null,
   "metadata": {
    "id": "-BNYUayh4RQM"
   },
   "outputs": [],
   "source": [
    "def Evaluate_Model(seqmodel, X, Y): \n",
    "  loss, accuracy = seqmodel.evaluate(X, Y)\n",
    "  return accuracy"
   ]
  },
  {
   "cell_type": "markdown",
   "metadata": {
    "id": "dus149nC4qp6"
   },
   "source": [
    "# Define: Plot the accuracy and Loss"
   ]
  },
  {
   "cell_type": "code",
   "execution_count": null,
   "metadata": {
    "id": "gEgy5Wnv4pqZ"
   },
   "outputs": [],
   "source": [
    "def Plot_Model_Accuracy_Loss(history): \n",
    "  print(\"Keys: \", history.history.keys())\n",
    "\n",
    "  # Plot the model accuracy\n",
    "  plt.plot(history.history['accuracy'])\n",
    "  plt.plot(history.history['val_accuracy'])\n",
    "  plt.xlabel('epochs')\n",
    "  plt.ylabel('Accuracy')\n",
    "  plt.title('Model accuracy')\n",
    "  plt.legend(['train', 'test'])\n",
    "  plt.show()\n",
    "  print(\"*************************************\")\n",
    "  # Plot the model loss\n",
    "  plt.plot(history.history['loss'])\n",
    "  plt.plot(history.history['val_loss'])\n",
    "  plt.xlabel('epochs')\n",
    "  plt.ylabel('Loss')\n",
    "  plt.title('Model Loss')\n",
    "  plt.legend(['train', 'test'])\n",
    "  plt.show()"
   ]
  },
  {
   "cell_type": "markdown",
   "metadata": {
    "id": "Bx_UL0ApjtMM"
   },
   "source": [
    "# Model1: Build, Train, Evaluate and plot the model, with epochs = 20"
   ]
  },
  {
   "cell_type": "code",
   "execution_count": null,
   "metadata": {
    "colab": {
     "base_uri": "https://localhost:8080/"
    },
    "id": "sLVWmO1W6lhp",
    "outputId": "66916ff0-1e46-4171-d120-403877483b02"
   },
   "outputs": [
    {
     "name": "stdout",
     "output_type": "stream",
     "text": [
      "Model: \"sequential\"\n",
      "_________________________________________________________________\n",
      " Layer (type)                Output Shape              Param #   \n",
      "=================================================================\n",
      " dense (Dense)               (None, 32)                25120     \n",
      "                                                                 \n",
      " dense_1 (Dense)             (None, 64)                2112      \n",
      "                                                                 \n",
      " dense_2 (Dense)             (None, 128)               8320      \n",
      "                                                                 \n",
      " dense_3 (Dense)             (None, 10)                1290      \n",
      "                                                                 \n",
      "=================================================================\n",
      "Total params: 36,842\n",
      "Trainable params: 36,842\n",
      "Non-trainable params: 0\n",
      "_________________________________________________________________\n"
     ]
    }
   ],
   "source": [
    "model1 = build_model(loss = 'categorical_crossentropy', optimizer = 'adam')"
   ]
  },
  {
   "cell_type": "code",
   "execution_count": null,
   "metadata": {
    "colab": {
     "base_uri": "https://localhost:8080/"
    },
    "id": "5EitlymYC9_r",
    "outputId": "ebf5ca98-b34c-4a81-8c42-8b6b0d28c3bf"
   },
   "outputs": [
    {
     "name": "stdout",
     "output_type": "stream",
     "text": [
      "Epoch 1/15\n",
      "6000/6000 [==============================] - 24s 4ms/step - loss: 0.2544 - accuracy: 0.9224 - val_loss: 0.1359 - val_accuracy: 0.9585\n",
      "Epoch 2/15\n",
      "6000/6000 [==============================] - 14s 2ms/step - loss: 0.1326 - accuracy: 0.9594 - val_loss: 0.1346 - val_accuracy: 0.9593\n",
      "Epoch 3/15\n",
      "6000/6000 [==============================] - 14s 2ms/step - loss: 0.1064 - accuracy: 0.9678 - val_loss: 0.1175 - val_accuracy: 0.9659\n",
      "Epoch 4/15\n",
      "6000/6000 [==============================] - 14s 2ms/step - loss: 0.0920 - accuracy: 0.9714 - val_loss: 0.1073 - val_accuracy: 0.9682\n",
      "Epoch 5/15\n",
      "6000/6000 [==============================] - 14s 2ms/step - loss: 0.0790 - accuracy: 0.9754 - val_loss: 0.1260 - val_accuracy: 0.9658\n",
      "Epoch 6/15\n",
      "6000/6000 [==============================] - 14s 2ms/step - loss: 0.0724 - accuracy: 0.9765 - val_loss: 0.1036 - val_accuracy: 0.9691\n",
      "Epoch 7/15\n",
      "6000/6000 [==============================] - 15s 2ms/step - loss: 0.0657 - accuracy: 0.9795 - val_loss: 0.1139 - val_accuracy: 0.9692\n",
      "Epoch 8/15\n",
      "6000/6000 [==============================] - 14s 2ms/step - loss: 0.0614 - accuracy: 0.9805 - val_loss: 0.1121 - val_accuracy: 0.9675\n",
      "Epoch 9/15\n",
      "6000/6000 [==============================] - 18s 3ms/step - loss: 0.0565 - accuracy: 0.9822 - val_loss: 0.1202 - val_accuracy: 0.9703\n",
      "Epoch 10/15\n",
      "6000/6000 [==============================] - 14s 2ms/step - loss: 0.0541 - accuracy: 0.9832 - val_loss: 0.1189 - val_accuracy: 0.9718\n",
      "Epoch 11/15\n",
      "6000/6000 [==============================] - 14s 2ms/step - loss: 0.0494 - accuracy: 0.9845 - val_loss: 0.1312 - val_accuracy: 0.9690\n",
      "Epoch 12/15\n",
      "6000/6000 [==============================] - 14s 2ms/step - loss: 0.0481 - accuracy: 0.9847 - val_loss: 0.1312 - val_accuracy: 0.9712\n",
      "Epoch 13/15\n",
      "6000/6000 [==============================] - 14s 2ms/step - loss: 0.0471 - accuracy: 0.9847 - val_loss: 0.1543 - val_accuracy: 0.9691\n",
      "Epoch 14/15\n",
      "6000/6000 [==============================] - 14s 2ms/step - loss: 0.0432 - accuracy: 0.9867 - val_loss: 0.1500 - val_accuracy: 0.9685\n",
      "Epoch 15/15\n",
      "6000/6000 [==============================] - 14s 2ms/step - loss: 0.0408 - accuracy: 0.9872 - val_loss: 0.1572 - val_accuracy: 0.9706\n"
     ]
    }
   ],
   "source": [
    "history = train_model(model1, n_epochs = 15)"
   ]
  },
  {
   "cell_type": "code",
   "execution_count": null,
   "metadata": {
    "colab": {
     "base_uri": "https://localhost:8080/"
    },
    "id": "s4xTn8EfJlKt",
    "outputId": "e5ba96e1-a233-429e-8a84-640e1ff64fee"
   },
   "outputs": [
    {
     "name": "stdout",
     "output_type": "stream",
     "text": [
      "313/313 [==============================] - 1s 2ms/step - loss: 0.1572 - accuracy: 0.9706\n"
     ]
    },
    {
     "data": {
      "text/plain": [
       "0.9706000089645386"
      ]
     },
     "execution_count": 13,
     "metadata": {},
     "output_type": "execute_result"
    }
   ],
   "source": [
    "accuracy = Evaluate_Model(model1, X_test, Y_test)\n",
    "accuracy"
   ]
  },
  {
   "cell_type": "code",
   "execution_count": null,
   "metadata": {
    "colab": {
     "base_uri": "https://localhost:8080/",
     "height": 609
    },
    "id": "rzc53HVVJ5fL",
    "outputId": "41cd7a1a-cf1e-4c33-98cf-20a226b80848"
   },
   "outputs": [
    {
     "name": "stdout",
     "output_type": "stream",
     "text": [
      "Keys:  dict_keys(['loss', 'accuracy', 'val_loss', 'val_accuracy'])\n"
     ]
    },
    {
     "data": {
      "image/png": "[encoded data removed]",
      "text/plain": [
       "<Figure size 432x288 with 1 Axes>"
      ]
     },
     "metadata": {
      "needs_background": "light"
     },
     "output_type": "display_data"
    },
    {
     "name": "stdout",
     "output_type": "stream",
     "text": [
      "*************************************\n"
     ]
    },
    {
     "data": {
      "image/png": "[encoded data removed]",
      "text/plain": [
       "<Figure size 432x288 with 1 Axes>"
      ]
     },
     "metadata": {
      "needs_background": "light"
     },
     "output_type": "display_data"
    }
   ],
   "source": [
    "Plot_Model_Accuracy_Loss(history)"
   ]
  },
  {
   "cell_type": "markdown",
   "metadata": {
    "id": "9APBd6DX2o2p"
   },
   "source": [
    "## Predict the outputs on the test data"
   ]
  },
  {
   "cell_type": "code",
   "execution_count": null,
   "metadata": {
    "id": "hlBR9eN32oAj"
   },
   "outputs": [],
   "source": [
    "y_pred = (model1.predict(X_test))"
   ]
  },
  {
   "cell_type": "code",
   "execution_count": null,
   "metadata": {
    "colab": {
     "base_uri": "https://localhost:8080/"
    },
    "id": "Wsr_Sl58doTO",
    "outputId": "3d0c4092-322b-436f-ae2e-c9dfe7ee1ced"
   },
   "outputs": [
    {
     "name": "stdout",
     "output_type": "stream",
     "text": [
      "[9.9999952e-01 1.1796679e-23 5.0407527e-07 7.8657187e-13 3.1024133e-12\n",
      " 1.8690034e-12 1.2018952e-09 8.4610878e-09 1.1439453e-11 4.2075129e-08]\n",
      "0\n"
     ]
    }
   ],
   "source": [
    "print(y_pred[10] )\n",
    "# The output displays 10 values (as we have 10 output classes) with probabilities for each class.\n",
    "# Observe which one has highest probability. The first one has max value. So, \n",
    "print(np.argmax(y_pred[10]))"
   ]
  },
  {
   "cell_type": "code",
   "execution_count": null,
   "metadata": {
    "id": "-3jL0fgjdih-"
   },
   "outputs": [],
   "source": [
    "y_pred = np.argmax(model1.predict(X_test), axis =1)"
   ]
  },
  {
   "cell_type": "markdown",
   "metadata": {
    "id": "M8ekcoE_uCkX"
   },
   "source": [
    "# Draw Confusion matrix and heatmap of confusion matrix"
   ]
  },
  {
   "cell_type": "code",
   "execution_count": null,
   "metadata": {
    "colab": {
     "base_uri": "https://localhost:8080/",
     "height": 592
    },
    "id": "K50jB9ZAfGJM",
    "outputId": "8ac74eb5-b536-4fac-89dd-f0b2a360f565"
   },
   "outputs": [
    {
     "data": {
      "image/png": "[encoded data removed]",
      "text/plain": [
       "<Figure size 1080x720 with 2 Axes>"
      ]
     },
     "metadata": {
      "needs_background": "light"
     },
     "output_type": "display_data"
    }
   ],
   "source": [
    "from sklearn.metrics import confusion_matrix\n",
    "import seaborn as sns\n",
    "plt.figure(figsize= (15,10))\n",
    "cm = confusion_matrix(Y_test_org, y_pred)\n",
    "cm\n",
    "\n",
    "sns.heatmap(cm, annot = True, fmt = '0.1f', cmap = 'GnBu_r')\n",
    "plt.show()"
   ]
  },
  {
   "cell_type": "code",
   "execution_count": null,
   "metadata": {
    "colab": {
     "base_uri": "https://localhost:8080/"
    },
    "id": "Iuz-6QHe3OWk",
    "outputId": "a703b416-4ddb-4be5-ec02-17e518fc239b"
   },
   "outputs": [
    {
     "data": {
      "text/plain": [
       "294"
      ]
     },
     "execution_count": 19,
     "metadata": {},
     "output_type": "execute_result"
    }
   ],
   "source": [
    "wrong_prediction = []\n",
    "for i in range(len(Y_test_org)): \n",
    "    if(Y_test_org[i] != y_pred[i]): \n",
    "        wrong_prediction.append(i)\n",
    "\n",
    "len(wrong_prediction)"
   ]
  },
  {
   "cell_type": "code",
   "execution_count": null,
   "metadata": {
    "colab": {
     "base_uri": "https://localhost:8080/",
     "height": 820
    },
    "id": "0MjVXUh_gxCj",
    "outputId": "83ff792c-5564-4ac9-8546-206457e0532c"
   },
   "outputs": [
    {
     "data": {
      "image/png": "[encoded data removed]",
      "text/plain": [
       "<Figure size 1440x1080 with 50 Axes>"
      ]
     },
     "metadata": {},
     "output_type": "display_data"
    }
   ],
   "source": [
    "plt.figure(figsize = (20, 15))\n",
    "for i in range(50):\n",
    "    plt.subplot(5,10, i+1)\n",
    "    plt.imshow(X_test_org[wrong_prediction[i]], cmap = 'PuBuGn')\n",
    "    plt.xticks([])\n",
    "    plt.yticks([])\n",
    "    #print(Y_test_new[wrong_prediction[i]], y_pred[wrong_prediction[i]])\n",
    "    plt.title(str(Y_test_org[wrong_prediction[i]]) + ',' + str(y_pred[wrong_prediction[i]]))\n",
    "plt.show()"
   ]
  },
  {
   "cell_type": "markdown",
   "metadata": {
    "id": "YHarjeWR4TRS"
   },
   "source": [
    "# Save the model "
   ]
  },
  {
   "cell_type": "code",
   "execution_count": null,
   "metadata": {
    "id": "-A6YmdmV4VOr"
   },
   "outputs": [],
   "source": [
    "model1.save('mnist.h5')"
   ]
  },
  {
   "cell_type": "code",
   "execution_count": null,
   "metadata": {
    "colab": {
     "base_uri": "https://localhost:8080/"
    },
    "id": "D49xDtYp4b-E",
    "outputId": "0eb4f8f5-1fee-45b8-a40a-b0e614e28c46"
   },
   "outputs": [
    {
     "name": "stdout",
     "output_type": "stream",
     "text": [
      "Model: \"sequential\"\n",
      "_________________________________________________________________\n",
      " Layer (type)                Output Shape              Param #   \n",
      "=================================================================\n",
      " dense (Dense)               (None, 32)                25120     \n",
      "                                                                 \n",
      " dense_1 (Dense)             (None, 64)                2112      \n",
      "                                                                 \n",
      " dense_2 (Dense)             (None, 128)               8320      \n",
      "                                                                 \n",
      " dense_3 (Dense)             (None, 10)                1290      \n",
      "                                                                 \n",
      "=================================================================\n",
      "Total params: 36,842\n",
      "Trainable params: 36,842\n",
      "Non-trainable params: 0\n",
      "_________________________________________________________________\n"
     ]
    }
   ],
   "source": [
    "read_Model = tf.models.load_model('mnist.h5')\n",
    "read_Model.summary()"
   ]
  },
  {
   "cell_type": "markdown",
   "metadata": {
    "id": "GkC523xmvDpP"
   },
   "source": [
    "# Read an input which is not part of training data and predict that number"
   ]
  },
  {
   "cell_type": "code",
   "execution_count": null,
   "metadata": {
    "colab": {
     "base_uri": "https://localhost:8080/",
     "height": 265
    },
    "id": "DvXnZMxiZKfq",
    "outputId": "91613c1d-15b8-44f1-8a77-106c7e6934a9"
   },
   "outputs": [
    {
     "data": {
      "image/png": "[encoded data removed]",
      "text/plain": [
       "<Figure size 432x288 with 1 Axes>"
      ]
     },
     "metadata": {
      "needs_background": "light"
     },
     "output_type": "display_data"
    }
   ],
   "source": [
    "import cv2\n",
    "img = cv2.imread(\"/content/sample_data/2.png\")\n",
    "img = cv2.cvtColor(img,cv2.COLOR_BGR2GRAY)\n",
    "img = cv2.resize(img,(28,28))\n",
    "img = cv2.bitwise_not(img) # Because the original X_test is black ground and 2.img is white background\n",
    "plt.imshow(img,cmap='gray')\n",
    "plt.show() "
   ]
  },
  {
   "cell_type": "code",
   "execution_count": null,
   "metadata": {
    "colab": {
     "base_uri": "https://localhost:8080/"
    },
    "id": "4jVbaQmYo9xB",
    "outputId": "971925ba-259a-4420-bc57-b28ee26bd781"
   },
   "outputs": [
    {
     "name": "stdout",
     "output_type": "stream",
     "text": [
      "(1, 784)\n"
     ]
    },
    {
     "data": {
      "text/plain": [
       "2"
      ]
     },
     "execution_count": 58,
     "metadata": {},
     "output_type": "execute_result"
    }
   ],
   "source": [
    "input1 = np.array([img])\n",
    "input_x = input1.reshape(1, 784)\n",
    "\n",
    "#X_train = X_train.reshape(60000, input_shape)\n",
    "print((input_x.shape))\n",
    "pred = model1.predict(input_x)\n",
    "np.argmax(pred)"
   ]
  },
  {
   "cell_type": "markdown",
   "metadata": {
    "id": "fHvBSqSfx1Zz"
   },
   "source": [
    "# Predict  another input data"
   ]
  },
  {
   "cell_type": "code",
   "execution_count": null,
   "metadata": {
    "colab": {
     "base_uri": "https://localhost:8080/",
     "height": 265
    },
    "id": "0e9aqwuPx0u-",
    "outputId": "3838d976-96a0-4b3f-f51b-1e2c2b717c7b"
   },
   "outputs": [
    {
     "data": {
      "image/png": "[encoded data removed]",
      "text/plain": [
       "<Figure size 432x288 with 1 Axes>"
      ]
     },
     "metadata": {
      "needs_background": "light"
     },
     "output_type": "display_data"
    }
   ],
   "source": [
    "\n",
    "img2 = cv2.imread('/content/sample_data/3.png')\n",
    "img2 = cv2.cvtColor(img2, cv2.COLOR_BGR2GRAY)\n",
    "img2 = cv2.resize(img2, (28,28))\n",
    "img2 = cv2.bitwise_not(img2)\n",
    "plt.imshow(img2, cmap = 'gray')\n",
    "plt.show()"
   ]
  },
  {
   "cell_type": "code",
   "execution_count": null,
   "metadata": {
    "colab": {
     "base_uri": "https://localhost:8080/"
    },
    "id": "1s5WWX7sz-kg",
    "outputId": "14837610-66fb-473b-9e41-a3a0b42e0517"
   },
   "outputs": [
    {
     "name": "stdout",
     "output_type": "stream",
     "text": [
      "(1, 784)\n"
     ]
    },
    {
     "data": {
      "text/plain": [
       "3"
      ]
     },
     "execution_count": 62,
     "metadata": {},
     "output_type": "execute_result"
    }
   ],
   "source": [
    "# Convert image into np.array and resize to 784 \n",
    "nparr = np.array([img2]) \n",
    "# reshape the image to same as input shape = (, 784)\n",
    "#X_train = X_train.reshape(60000, input_shape)\n",
    "nparr = nparr.reshape(1, 784)\n",
    "\n",
    "print(nparr.shape)\n",
    "pred = model1.predict(nparr)\n",
    "np.argmax(pred)"
   ]
  },
  {
   "cell_type": "code",
   "execution_count": null,
   "metadata": {
    "id": "NkFY14h94RoH"
   },
   "outputs": [],
   "source": []
  },
  {
   "cell_type": "markdown",
   "metadata": {
    "id": "6URyLE9eJ7nL"
   },
   "source": [
    "\n",
    "\n",
    "# Model2: Build, Train, Evaluate and plot the model, with epochs = 50\n",
    "\n"
   ]
  },
  {
   "cell_type": "code",
   "execution_count": null,
   "metadata": {
    "id": "zUd1vLJokOpF"
   },
   "outputs": [],
   "source": [
    "model2 = build_model(loss = 'categorical_crossentropy', optimizer = 'adam')"
   ]
  },
  {
   "cell_type": "code",
   "execution_count": null,
   "metadata": {
    "id": "CD1k3Q1SA9Kq"
   },
   "outputs": [],
   "source": [
    "history2 = train_model(model2, n_epochs = 100)"
   ]
  },
  {
   "cell_type": "code",
   "execution_count": null,
   "metadata": {
    "id": "KzbCZd-mK-Rz"
   },
   "outputs": [],
   "source": [
    "accuracy2 = Evaluate_Model(model2, X_test, Y_test)\n",
    "accuracy2"
   ]
  },
  {
   "cell_type": "code",
   "execution_count": null,
   "metadata": {
    "id": "UpR0IqyLKO9Q"
   },
   "outputs": [],
   "source": [
    "Plot_Model_Accuracy_Loss(history2)"
   ]
  }
 ],
 "metadata": {
  "colab": {
   "collapsed_sections": [],
   "name": "IU3_Assignment1_MNIST.ipynb",
   "provenance": []
  },
  "kernelspec": {
   "display_name": "Python 3 (ipykernel)",
   "language": "python",
   "name": "python3"
  },
  "language_info": {
   "codemirror_mode": {
    "name": "ipython",
    "version": 3
   },
   "file_extension": ".py",
   "mimetype": "text/x-python",
   "name": "python",
   "nbconvert_exporter": "python",
   "pygments_lexer": "ipython3",
   "version": "3.9.12"
  }
 },
 "nbformat": 4,
 "nbformat_minor": 1
}
